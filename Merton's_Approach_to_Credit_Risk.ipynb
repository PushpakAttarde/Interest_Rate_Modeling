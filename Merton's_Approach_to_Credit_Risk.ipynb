{
  "nbformat": 4,
  "nbformat_minor": 0,
  "metadata": {
    "colab": {
      "provenance": []
    },
    "kernelspec": {
      "name": "python3",
      "display_name": "Python 3"
    },
    "language_info": {
      "name": "python"
    }
  },
  "cells": [
    {
      "cell_type": "markdown",
      "source": [
        "In 1974, Robert Merton introduced a new option theoretic approach to credit risk modeling. The approach is based on Debt and Equity are the contingent claim on firm's asset (i.e both are depending on time).\n",
        "\n",
        "$V_t$ denote the value of firm at time t.\n",
        "\n",
        "$V_t$ follows Geometric Brownian Motion (GBM) that means\n",
        "\n",
        "d$V_t$ = (μV) * dt + (σV) * dBt\n",
        "\n",
        "The model assumes that the debt is taken to be of zero coupon form. The face value of the debt is denoted by D and maturity is T.\n",
        "\n",
        "On the day of Maturity (T), when debt matures there will be two possibilities.\n",
        "\n",
        "1. There is enough value on the firm to meet the amount due to debtholders. ($V_T$ >= D)\n",
        "2. $V_T$ < D, Debtholders receives value whatever the value there is in the firm. Equityholders gets nothing.\n",
        "\n",
        "Debtholders CashFlow = D   if $V_T$ >= D or $V_T$ otherwise\n",
        "\n",
        "Debtholders receives Min{$V_T$, D} equivalent to D - Max{D - $V_T$, 0} this is like payoff put option with D as strike price.\n",
        "\n",
        "Debtholder's claim is equivalent to a portfolio\n",
        "\n",
        "1. Long a default free bond paying D at time T.\n",
        "2. Short a put option on the firm's asset with strike D and maturity T.\n",
        "\n",
        "B and P be the values of the default free bond and put option, then the values of Risky Bond or Risky Debt is B* = B - P.\n",
        "\n",
        "#Valuation of Risky Bond or Risky Debt\n",
        "Assumptions :\n",
        "1. Put option is european style.\n",
        "2. $V_t$ follows GBM\n",
        "3. The risk free interest rate is constant.\n",
        "4. Market volatility is constant."
      ],
      "metadata": {
        "id": "KbNvA0xRHOR8"
      }
    },
    {
      "cell_type": "code",
      "source": [
        "# B be the value of riskless debt.\n",
        "# r risk neutral interest rate.\n",
        "import numpy as np\n",
        "from scipy.stats import norm\n",
        "V_t = float(input(\"Enter Current Value of the Firm: \"))\n",
        "D = float(input(\"Enter Face Value of Debt: \"))\n",
        "T = float(input(\"Enter Time to Maturity in years: \"))\n",
        "t = float(input(\"Enter a time in years: \"))\n",
        "σ = float(input(\"Enter a Market Volatility: \"))\n",
        "r = float(input(\"Enter a Risk Free Interest Rate: \"))\n",
        "\n",
        "B = np.exp(-r * (T-t)) * D\n",
        "\n",
        "# L is a measure of leverage.\n",
        "L = B / V_t\n",
        "\n",
        "d = (1/σ * np.sqrt(T-t)) * (np.log(1/L) + (σ**2/2)*(T-t))\n",
        "\n",
        "# P is the Price of the Risky Bond\n",
        "P = np.exp(-r * (T-t)) * D * norm.cdf(-d + σ * np.sqrt(T-t)) - (V_t * norm.cdf(-d))\n",
        "\n",
        "B_star = B - P    # B_star =  np.exp(-r * (T-t)) * D * (norm.cdf(d - σ * np.sqrt(T-t)) - (1/L) * norm.cdf(-d))\n",
        "\n",
        "print(\"Price of Riskless Debt:\", f\"{B:.2f}\")\n",
        "print(\"Price of Put Option:\", f\"{P:.4f}\")\n",
        "print(\"Price of Risky Bond or Risky Debt:\", f\"{B_star:.2f}\")"
      ],
      "metadata": {
        "colab": {
          "base_uri": "https://localhost:8080/"
        },
        "id": "ByyGYBmjKOuU",
        "outputId": "f3c3bee5-9d1f-4eb6-f5d0-44eb33eae295"
      },
      "execution_count": 16,
      "outputs": [
        {
          "output_type": "stream",
          "name": "stdout",
          "text": [
            "Enter Current Value of the Firm: 100\n",
            "Enter Face Value of Debt: 60\n",
            "Enter Time to Maturity in years: 1\n",
            "Enter a time in years: 0\n",
            "Enter a Market Volatility: 0.3\n",
            "Enter a Risk Free Interest Rate: 0.1\n",
            "Price of Riskless Debt: 54.29\n",
            "Price of Put Option: 0.1688\n",
            "Price of Risky Bond or Risky Debt: 54.12\n"
          ]
        }
      ]
    },
    {
      "cell_type": "code",
      "source": [
        "# P(V_T < D) is risk neutral probability of default\n",
        "\n",
        "prob_default = norm.cdf(-d + σ * np.sqrt(T-t))\n",
        "print(\"Risk Neutral Probability of Default:\", f\"{prob_default:.4f}\")"
      ],
      "metadata": {
        "colab": {
          "base_uri": "https://localhost:8080/"
        },
        "id": "2VaR8LHzel1K",
        "outputId": "6dd291df-a427-4793-d957-734ee438d62c"
      },
      "execution_count": 15,
      "outputs": [
        {
          "output_type": "stream",
          "name": "stdout",
          "text": [
            "Risk Neutral Probability of Default: 0.0296\n"
          ]
        }
      ]
    },
    {
      "cell_type": "markdown",
      "source": [
        "#Risk Neutral Recovery Rate\n",
        "At maturity T, if the value of the firm $V_T$ < D, the form is in default. The recovery amount will be some value less than D. If the recovery amount denoted by \"a\". Then the recovery rate $φ_T$ is defined to be the fraction a/D. Then the expected recovery rate is denoted by E[$φ_T$].\n"
      ],
      "metadata": {
        "id": "xuY5aG3yiyq7"
      }
    },
    {
      "cell_type": "code",
      "source": [
        "# a = expected recovery amount\n",
        "# φ = expected recovery rate of return\n",
        "a = (np.exp(r * (T-t)) * V_t * (1 - norm.cdf(d))) / norm.cdf(-d + σ * np.sqrt(T-t)) # or Risk Neutral Probability of Default\n",
        "φ = a / D\n",
        "\n",
        "print(\"Expected Recovery Amount:\", f\"{a:.2f}\")\n",
        "print(\"Expected Recovery Rate of Return:\", f\"{φ:.4f}\")"
      ],
      "metadata": {
        "colab": {
          "base_uri": "https://localhost:8080/"
        },
        "id": "Bmj2tm77kl83",
        "outputId": "8bf4bd22-f175-4b83-d5c6-9e70bdc6f955"
      },
      "execution_count": 17,
      "outputs": [
        {
          "output_type": "stream",
          "name": "stdout",
          "text": [
            "Expected Recovery Amount: 53.71\n",
            "Expected Recovery Rate of Return: 0.8951\n"
          ]
        }
      ]
    },
    {
      "cell_type": "markdown",
      "source": [
        "#The term structure of credit spread\n",
        "The credit spread is the difference between the yield on risky bond and yield on the riskless bond.\n",
        "\n",
        "R be the yield on the risky bond.\n",
        "\n",
        "B* = exp(-R * (T-t)) * D\n",
        "\n",
        "credit spread = R - r"
      ],
      "metadata": {
        "id": "4UE8Pe7TmTxj"
      }
    },
    {
      "cell_type": "code",
      "source": [
        "R = (-1/(T-t)) * np.log(B_star/D)\n",
        "Credit_Spread = R - r\n",
        "\n",
        "print(\"Yield on the Risky Bond:\", f\"{R:.4f}\")\n",
        "print(\"Credit Spread:\", f\"{Credit_Spread:.4f}\")"
      ],
      "metadata": {
        "colab": {
          "base_uri": "https://localhost:8080/"
        },
        "id": "4CPNKwQImNHk",
        "outputId": "e0951a96-7d68-4d1a-e4b5-f47bd11fc701"
      },
      "execution_count": 18,
      "outputs": [
        {
          "output_type": "stream",
          "name": "stdout",
          "text": [
            "Yield on the Risky Bond: 0.1031\n",
            "Credit Spread: 0.0031\n"
          ]
        }
      ]
    }
  ]
}